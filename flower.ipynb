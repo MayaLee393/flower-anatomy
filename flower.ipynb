{
 "cells": [
  {
   "cell_type": "markdown",
   "id": "dedafa64",
   "metadata": {},
   "source": [
    "Create flower Segmentation"
   ]
  },
  {
   "cell_type": "code",
   "execution_count": 7,
   "id": "c14d85e2",
   "metadata": {},
   "outputs": [
    {
     "name": "stderr",
     "output_type": "stream",
     "text": [
      "100%|██████████| 8189/8189 [14:46<00:00,  9.24it/s]\n"
     ]
    }
   ],
   "source": [
    "import os\n",
    "from tqdm import tqdm\n",
    "import numpy as np\n",
    "from PIL import Image\n",
    "\n",
    "# Paths\n",
    "image_dir = \"data/jpg\"\n",
    "mask_dir = \"data/segmim\"\n",
    "output_dir = \"data/segmented\"\n",
    "os.makedirs(output_dir, exist_ok=True)\n",
    "\n",
    "# Process all images\n",
    "for i in tqdm(range(1, 8189 + 1)):  # 1-based indexing\n",
    "    img_name = f\"image_{i:05d}.jpg\"\n",
    "    mask_name = f\"segmim_{i:05d}.jpg\"\n",
    "\n",
    "    try:\n",
    "        img = Image.open(os.path.join(image_dir, img_name)).convert(\"RGB\")\n",
    "        mask = Image.open(os.path.join(mask_dir, mask_name)).convert(\"L\")\n",
    "\n",
    "        #convert to numpy\n",
    "        img_np = np.array(img)\n",
    "        mask_np = np.array(mask)\n",
    "\n",
    "        mask_bool = mask_np > 128 #convert grayscale to binary (True=white)\n",
    "        segmented = img_np.copy()\n",
    "        segmented[~mask_bool] = 0 #set non flower pixels to black\n",
    "\n",
    "        seg_img = Image.fromarray(segmented)\n",
    "        seg_img.save(os.path.join(output_dir, f\"segmented_{i:05d}.png\"))\n",
    "    except Exception as e:\n",
    "        print(f\"Error processing {img_name}: {e}\")\n"
   ]
  },
  {
   "cell_type": "markdown",
   "id": "527b8ed2",
   "metadata": {},
   "source": [
    "Analyze petals"
   ]
  },
  {
   "cell_type": "code",
   "execution_count": 1,
   "id": "aca8982f",
   "metadata": {},
   "outputs": [],
   "source": [
    "def create_petal_gallery(img, markers):\n",
    "    petals = []\n",
    "    unique_labels = np.unique(markers)\n",
    "    \n",
    "    for label in unique_labels:\n",
    "        if label <= 1:  # Skip background and unknown\n",
    "            continue\n",
    "\n",
    "        # Create a mask for this label\n",
    "        mask = (markers == label).astype(np.uint8) * 255\n",
    "\n",
    "        # Extract the bounding box\n",
    "        x, y, w, h = cv2.boundingRect(mask)\n",
    "\n",
    "        # Mask and crop the petal\n",
    "        masked_img = cv2.bitwise_and(img, img, mask=mask)\n",
    "        petal_crop = masked_img[y:y+h, x:x+w]\n",
    "\n",
    "        # Resize to a fixed height (e.g., 100 px), preserve aspect ratio\n",
    "        scale = 100 / h\n",
    "        resized = cv2.resize(petal_crop, (int(w * scale), 100))\n",
    "\n",
    "        petals.append(resized)\n",
    "\n",
    "    if not petals:\n",
    "        return None\n",
    "\n",
    "    # Stack petals horizontally\n",
    "    gallery = cv2.hconcat(petals)\n",
    "    return gallery\n"
   ]
  },
  {
   "cell_type": "code",
   "execution_count": 3,
   "id": "6e6417d6",
   "metadata": {},
   "outputs": [
    {
     "name": "stderr",
     "output_type": "stream",
     "text": [
      "100%|██████████| 8189/8189 [10:36<00:00, 12.87it/s]\n"
     ]
    }
   ],
   "source": [
    "import cv2\n",
    "import numpy as np\n",
    "from PIL import Image\n",
    "import os\n",
    "import json\n",
    "from tqdm import tqdm\n",
    "\n",
    "# Directories\n",
    "segmented_dir = \"data/segmented\"\n",
    "output_img_dir = \"data/contours\"\n",
    "output_petal_dir = \"data/petals\"\n",
    "output_json_dir = \"data/petal_data\"\n",
    "os.makedirs(output_img_dir, exist_ok=True)\n",
    "os.makedirs(output_petal_dir, exist_ok=True)\n",
    "os.makedirs(output_json_dir, exist_ok=True)\n",
    "\n",
    "for i in tqdm(range(1, 8189 + 1)):  # Loop through all images\n",
    "    img_name = f\"segmented_{i:05d}.png\"\n",
    "    \n",
    "    try:\n",
    "        img_path = os.path.join(segmented_dir, img_name)\n",
    "        img = cv2.imread(img_path)\n",
    "        if img is None:\n",
    "            raise FileNotFoundError(f\"Image not found: {img_path}\")\n",
    "        \n",
    "        gray = cv2.cvtColor(img, cv2.COLOR_BGR2GRAY)\n",
    "        _, binary = cv2.threshold(gray, 10, 255, cv2.THRESH_BINARY)\n",
    "\n",
    "        # Preprocessing\n",
    "        kernel = np.ones((3, 3), np.uint8)\n",
    "        opening = cv2.morphologyEx(binary, cv2.MORPH_OPEN, kernel, iterations=2)\n",
    "        sure_bg = cv2.dilate(opening, kernel, iterations=3)\n",
    "\n",
    "        # Distance transform + sure foreground\n",
    "        dist_transform = cv2.distanceTransform(opening, cv2.DIST_L2, 5)\n",
    "        _, sure_fg = cv2.threshold(dist_transform, 0.5 * dist_transform.max(), 255, 0)\n",
    "        sure_fg = np.uint8(sure_fg)\n",
    "        unknown = cv2.subtract(sure_bg, sure_fg)\n",
    "\n",
    "        # Markers\n",
    "        _, markers = cv2.connectedComponents(sure_fg)\n",
    "        markers = markers + 1\n",
    "        markers[unknown == 255] = 0\n",
    "\n",
    "        # Watershed\n",
    "        output = img.copy()\n",
    "        markers = cv2.watershed(output, markers)\n",
    "        gallery = create_petal_gallery(img, markers)\n",
    "        if gallery is not None:\n",
    "            gallery_out_path = os.path.join(output_petal_dir, f\"petal_gallery_{i:05d}.png\")\n",
    "            cv2.imwrite(gallery_out_path, gallery)\n",
    "\n",
    "        output[markers == -1] = [0, 0, 255]  # Red boundary\n",
    "\n",
    "        # Count unique petal regions (label > 1)\n",
    "        unique_labels = np.unique(markers)\n",
    "        petal_ids = unique_labels[(unique_labels > 1)]\n",
    "        petal_count = len(petal_ids)\n",
    "\n",
    "        # Save image\n",
    "        output_img = Image.fromarray(cv2.cvtColor(output, cv2.COLOR_BGR2RGB))\n",
    "        output_img.save(os.path.join(output_img_dir, f\"contours_{i:05d}.png\"))\n",
    "\n",
    "        # Save to JSON\n",
    "        petal_data = [{\"petal_count\": petal_count}]\n",
    "        with open(os.path.join(output_json_dir, f\"petals_{i:05d}.json\"), \"w\") as f:\n",
    "            json.dump(petal_data, f, indent=4)\n",
    "\n",
    "    except Exception as e:\n",
    "        print(f\"Error processing {img_name}: {e}\")\n"
   ]
  }
 ],
 "metadata": {
  "kernelspec": {
   "display_name": "base",
   "language": "python",
   "name": "python3"
  },
  "language_info": {
   "codemirror_mode": {
    "name": "ipython",
    "version": 3
   },
   "file_extension": ".py",
   "mimetype": "text/x-python",
   "name": "python",
   "nbconvert_exporter": "python",
   "pygments_lexer": "ipython3",
   "version": "3.12.4"
  }
 },
 "nbformat": 4,
 "nbformat_minor": 5
}
