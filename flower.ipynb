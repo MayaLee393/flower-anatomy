{
 "cells": [
  {
   "cell_type": "markdown",
   "id": "dedafa64",
   "metadata": {},
   "source": [
    "Create flower Segmentation"
   ]
  },
  {
   "cell_type": "code",
   "execution_count": 7,
   "id": "c14d85e2",
   "metadata": {},
   "outputs": [
    {
     "name": "stderr",
     "output_type": "stream",
     "text": [
      "100%|██████████| 8189/8189 [14:46<00:00,  9.24it/s]\n"
     ]
    }
   ],
   "source": [
    "import os\n",
    "from tqdm import tqdm\n",
    "import numpy as np\n",
    "from PIL import Image\n",
    "\n",
    "# Paths\n",
    "image_dir = \"data/jpg\"\n",
    "mask_dir = \"data/segmim\"\n",
    "output_dir = \"data/segmented\"\n",
    "os.makedirs(output_dir, exist_ok=True)\n",
    "\n",
    "# Process all images\n",
    "for i in tqdm(range(1, 8189 + 1)):  # 1-based indexing\n",
    "    img_name = f\"image_{i:05d}.jpg\"\n",
    "    mask_name = f\"segmim_{i:05d}.jpg\"\n",
    "\n",
    "    try:\n",
    "        img = Image.open(os.path.join(image_dir, img_name)).convert(\"RGB\")\n",
    "        mask = Image.open(os.path.join(mask_dir, mask_name)).convert(\"L\")\n",
    "\n",
    "        #convert to numpy\n",
    "        img_np = np.array(img)\n",
    "        mask_np = np.array(mask)\n",
    "\n",
    "        mask_bool = mask_np > 128 #convert grayscale to binary (True=white)\n",
    "        segmented = img_np.copy()\n",
    "        segmented[~mask_bool] = 0 #set non flower pixels to black\n",
    "\n",
    "        seg_img = Image.fromarray(segmented)\n",
    "        seg_img.save(os.path.join(output_dir, f\"segmented_{i:05d}.png\"))\n",
    "    except Exception as e:\n",
    "        print(f\"Error processing {img_name}: {e}\")\n"
   ]
  },
  {
   "cell_type": "markdown",
   "id": "527b8ed2",
   "metadata": {},
   "source": [
    "Analyze petals"
   ]
  },
  {
   "cell_type": "code",
   "execution_count": 1,
   "id": "aca8982f",
   "metadata": {},
   "outputs": [],
   "source": [
    "def create_petal_gallery(img, markers):\n",
    "    petals = []\n",
    "    unique_labels = np.unique(markers)\n",
    "    \n",
    "    for label in unique_labels:\n",
    "        if label <= 1:  # Skip background and unknown\n",
    "            continue\n",
    "\n",
    "        # Create a mask for this label\n",
    "        mask = (markers == label).astype(np.uint8) * 255\n",
    "\n",
    "        # Extract the bounding box\n",
    "        x, y, w, h = cv2.boundingRect(mask)\n",
    "\n",
    "        # Mask and crop the petal\n",
    "        masked_img = cv2.bitwise_and(img, img, mask=mask)\n",
    "        petal_crop = masked_img[y:y+h, x:x+w]\n",
    "\n",
    "        # Resize to a fixed height (e.g., 100 px), preserve aspect ratio\n",
    "        scale = 100 / h\n",
    "        resized = cv2.resize(petal_crop, (int(w * scale), 100))\n",
    "\n",
    "        petals.append(resized)\n",
    "\n",
    "    if not petals:\n",
    "        return None\n",
    "\n",
    "    # Stack petals horizontally\n",
    "    gallery = cv2.hconcat(petals)\n",
    "    return gallery\n"
   ]
  },
  {
   "cell_type": "code",
   "execution_count": null,
   "id": "6e6417d6",
   "metadata": {},
   "outputs": [
    {
     "name": "stderr",
     "output_type": "stream",
     "text": [
      "  0%|          | 2/8189 [00:00<11:35, 11.78it/s]"
     ]
    },
    {
     "name": "stdout",
     "output_type": "stream",
     "text": [
      "Error processing segmented_00001.png: name 'put' is not defined\n",
      "Error processing segmented_00002.png: name 'put' is not defined\n",
      "Error processing segmented_00003.png: name 'put' is not defined\n",
      "Error processing segmented_00004.png: name 'put' is not defined\n",
      "Error processing segmented_00005.png: name 'put' is not defined\n"
     ]
    },
    {
     "name": "stderr",
     "output_type": "stream",
     "text": [
      "  0%|          | 9/8189 [00:00<06:25, 21.23it/s]"
     ]
    },
    {
     "name": "stdout",
     "output_type": "stream",
     "text": [
      "Error processing segmented_00006.png: name 'put' is not defined\n",
      "Error processing segmented_00007.png: name 'put' is not defined\n",
      "Error processing segmented_00008.png: name 'put' is not defined\n",
      "Error processing segmented_00009.png: name 'put' is not defined\n"
     ]
    },
    {
     "name": "stderr",
     "output_type": "stream",
     "text": [
      "  0%|          | 12/8189 [00:00<07:27, 18.27it/s]"
     ]
    },
    {
     "name": "stdout",
     "output_type": "stream",
     "text": [
      "Error processing segmented_00010.png: name 'put' is not defined\n",
      "Error processing segmented_00011.png: name 'put' is not defined\n",
      "Error processing segmented_00012.png: name 'put' is not defined\n",
      "Error processing segmented_00013.png: name 'put' is not defined\n"
     ]
    },
    {
     "name": "stderr",
     "output_type": "stream",
     "text": [
      "  0%|          | 15/8189 [00:00<07:53, 17.28it/s]"
     ]
    },
    {
     "name": "stdout",
     "output_type": "stream",
     "text": [
      "Error processing segmented_00014.png: name 'put' is not defined\n",
      "Error processing segmented_00015.png: name 'put' is not defined\n",
      "Error processing segmented_00016.png: name 'put' is not defined\n"
     ]
    },
    {
     "name": "stderr",
     "output_type": "stream",
     "text": [
      "  0%|          | 19/8189 [00:01<08:08, 16.73it/s]"
     ]
    },
    {
     "name": "stdout",
     "output_type": "stream",
     "text": [
      "Error processing segmented_00017.png: name 'put' is not defined\n",
      "Error processing segmented_00018.png: name 'put' is not defined\n",
      "Error processing segmented_00019.png: name 'put' is not defined\n"
     ]
    },
    {
     "name": "stderr",
     "output_type": "stream",
     "text": [
      "  0%|          | 23/8189 [00:01<08:13, 16.54it/s]"
     ]
    },
    {
     "name": "stdout",
     "output_type": "stream",
     "text": [
      "Error processing segmented_00020.png: name 'put' is not defined\n",
      "Error processing segmented_00021.png: name 'put' is not defined\n",
      "Error processing segmented_00022.png: name 'put' is not defined\n",
      "Error processing segmented_00023.png: name 'put' is not defined\n"
     ]
    },
    {
     "name": "stderr",
     "output_type": "stream",
     "text": [
      "  0%|          | 25/8189 [00:01<08:35, 15.84it/s]"
     ]
    },
    {
     "name": "stdout",
     "output_type": "stream",
     "text": [
      "Error processing segmented_00024.png: name 'put' is not defined\n",
      "Error processing segmented_00025.png: name 'put' is not defined\n"
     ]
    },
    {
     "name": "stderr",
     "output_type": "stream",
     "text": [
      "  0%|          | 30/8189 [00:01<08:39, 15.70it/s]"
     ]
    },
    {
     "name": "stdout",
     "output_type": "stream",
     "text": [
      "Error processing segmented_00026.png: name 'put' is not defined\n",
      "Error processing segmented_00027.png: name 'put' is not defined\n",
      "Error processing segmented_00028.png: name 'put' is not defined\n",
      "Error processing segmented_00029.png: name 'put' is not defined\n",
      "Error processing segmented_00030.png: name 'put' is not defined\n"
     ]
    },
    {
     "name": "stderr",
     "output_type": "stream",
     "text": [
      "  0%|          | 34/8189 [00:02<08:41, 15.65it/s]"
     ]
    },
    {
     "name": "stdout",
     "output_type": "stream",
     "text": [
      "Error processing segmented_00031.png: name 'put' is not defined\n",
      "Error processing segmented_00032.png: name 'put' is not defined\n",
      "Error processing segmented_00033.png: name 'put' is not defined\n",
      "Error processing segmented_00034.png: name 'put' is not defined\n"
     ]
    },
    {
     "name": "stderr",
     "output_type": "stream",
     "text": [
      "  0%|          | 36/8189 [00:02<09:40, 14.05it/s]"
     ]
    },
    {
     "name": "stdout",
     "output_type": "stream",
     "text": [
      "Error processing segmented_00035.png: name 'put' is not defined\n",
      "Error processing segmented_00036.png: name 'put' is not defined\n",
      "Error processing segmented_00037.png: name 'put' is not defined\n"
     ]
    },
    {
     "name": "stderr",
     "output_type": "stream",
     "text": [
      "  1%|          | 41/8189 [00:02<08:26, 16.09it/s]"
     ]
    },
    {
     "name": "stdout",
     "output_type": "stream",
     "text": [
      "Error processing segmented_00038.png: name 'put' is not defined\n",
      "Error processing segmented_00039.png: name 'put' is not defined\n",
      "Error processing segmented_00040.png: name 'put' is not defined\n",
      "Error processing segmented_00041.png: name 'put' is not defined\n",
      "Error processing segmented_00042.png: name 'put' is not defined\n"
     ]
    },
    {
     "name": "stderr",
     "output_type": "stream",
     "text": [
      "  1%|          | 47/8189 [00:02<07:03, 19.24it/s]"
     ]
    },
    {
     "name": "stdout",
     "output_type": "stream",
     "text": [
      "Error processing segmented_00043.png: name 'put' is not defined\n",
      "Error processing segmented_00044.png: name 'put' is not defined\n",
      "Error processing segmented_00045.png: name 'put' is not defined\n",
      "Error processing segmented_00046.png: name 'put' is not defined\n",
      "Error processing segmented_00047.png: name 'put' is not defined\n"
     ]
    },
    {
     "name": "stderr",
     "output_type": "stream",
     "text": [
      "  1%|          | 52/8189 [00:03<06:28, 20.96it/s]"
     ]
    },
    {
     "name": "stdout",
     "output_type": "stream",
     "text": [
      "Error processing segmented_00048.png: name 'put' is not defined\n",
      "Error processing segmented_00049.png: name 'put' is not defined\n",
      "Error processing segmented_00050.png: name 'put' is not defined\n",
      "Error processing segmented_00051.png: name 'put' is not defined\n",
      "Error processing segmented_00052.png: name 'put' is not defined\n"
     ]
    },
    {
     "name": "stderr",
     "output_type": "stream",
     "text": [
      "  1%|          | 58/8189 [00:03<05:58, 22.68it/s]"
     ]
    },
    {
     "name": "stdout",
     "output_type": "stream",
     "text": [
      "Error processing segmented_00053.png: name 'put' is not defined\n",
      "Error processing segmented_00054.png: name 'put' is not defined\n",
      "Error processing segmented_00055.png: name 'put' is not defined\n",
      "Error processing segmented_00056.png: name 'put' is not defined\n",
      "Error processing segmented_00057.png: name 'put' is not defined\n",
      "Error processing segmented_00058.png: name 'put' is not defined\n"
     ]
    },
    {
     "name": "stderr",
     "output_type": "stream",
     "text": [
      "  1%|          | 61/8189 [00:03<06:41, 20.24it/s]"
     ]
    },
    {
     "name": "stdout",
     "output_type": "stream",
     "text": [
      "Error processing segmented_00059.png: name 'put' is not defined\n",
      "Error processing segmented_00060.png: name 'put' is not defined\n",
      "Error processing segmented_00061.png: name 'put' is not defined\n",
      "Error processing segmented_00062.png: name 'put' is not defined\n"
     ]
    },
    {
     "name": "stderr",
     "output_type": "stream",
     "text": [
      "  1%|          | 68/8189 [00:03<05:38, 23.99it/s]"
     ]
    },
    {
     "name": "stdout",
     "output_type": "stream",
     "text": [
      "Error processing segmented_00063.png: name 'put' is not defined\n",
      "Error processing segmented_00064.png: name 'put' is not defined\n",
      "Error processing segmented_00065.png: name 'put' is not defined\n",
      "Error processing segmented_00066.png: name 'put' is not defined\n",
      "Error processing segmented_00067.png: name 'put' is not defined\n",
      "Error processing segmented_00068.png: name 'put' is not defined\n"
     ]
    },
    {
     "name": "stderr",
     "output_type": "stream",
     "text": [
      "  1%|          | 71/8189 [00:03<05:48, 23.26it/s]"
     ]
    },
    {
     "name": "stdout",
     "output_type": "stream",
     "text": [
      "Error processing segmented_00069.png: name 'put' is not defined\n",
      "Error processing segmented_00070.png: name 'put' is not defined\n",
      "Error processing segmented_00071.png: name 'put' is not defined\n"
     ]
    },
    {
     "name": "stderr",
     "output_type": "stream",
     "text": [
      "  1%|          | 74/8189 [00:04<07:04, 19.13it/s]"
     ]
    },
    {
     "name": "stdout",
     "output_type": "stream",
     "text": [
      "Error processing segmented_00072.png: name 'put' is not defined\n",
      "Error processing segmented_00073.png: name 'put' is not defined\n",
      "Error processing segmented_00074.png: name 'put' is not defined\n",
      "Error processing segmented_00075.png: name 'put' is not defined\n",
      "Error processing segmented_00076.png: name 'put' is not defined\n"
     ]
    },
    {
     "name": "stderr",
     "output_type": "stream",
     "text": [
      "  1%|          | 80/8189 [00:04<06:37, 20.42it/s]"
     ]
    },
    {
     "name": "stdout",
     "output_type": "stream",
     "text": [
      "Error processing segmented_00077.png: name 'put' is not defined\n",
      "Error processing segmented_00078.png: name 'put' is not defined\n",
      "Error processing segmented_00079.png: name 'put' is not defined\n",
      "Error processing segmented_00080.png: name 'put' is not defined\n",
      "Error processing segmented_00081.png: name 'put' is not defined\n"
     ]
    },
    {
     "name": "stderr",
     "output_type": "stream",
     "text": [
      "  1%|          | 86/8189 [00:04<06:25, 21.03it/s]"
     ]
    },
    {
     "name": "stdout",
     "output_type": "stream",
     "text": [
      "Error processing segmented_00082.png: name 'put' is not defined\n",
      "Error processing segmented_00083.png: name 'put' is not defined\n",
      "Error processing segmented_00084.png: name 'put' is not defined\n",
      "Error processing segmented_00085.png: name 'put' is not defined\n",
      "Error processing segmented_00086.png: name 'put' is not defined\n",
      "Error processing segmented_00087.png: name 'put' is not defined\n"
     ]
    },
    {
     "name": "stderr",
     "output_type": "stream",
     "text": [
      "  1%|          | 93/8189 [00:04<05:22, 25.07it/s]"
     ]
    },
    {
     "name": "stdout",
     "output_type": "stream",
     "text": [
      "Error processing segmented_00088.png: name 'put' is not defined\n",
      "Error processing segmented_00089.png: name 'put' is not defined\n",
      "Error processing segmented_00090.png: name 'put' is not defined\n",
      "Error processing segmented_00091.png: name 'put' is not defined\n",
      "Error processing segmented_00092.png: name 'put' is not defined\n",
      "Error processing segmented_00093.png: name 'put' is not defined\n",
      "Error processing segmented_00094.png: name 'put' is not defined\n"
     ]
    },
    {
     "name": "stderr",
     "output_type": "stream",
     "text": [
      "  1%|          | 96/8189 [00:04<05:45, 23.40it/s]"
     ]
    },
    {
     "name": "stdout",
     "output_type": "stream",
     "text": [
      "Error processing segmented_00095.png: name 'put' is not defined\n",
      "Error processing segmented_00096.png: name 'put' is not defined\n",
      "Error processing segmented_00097.png: name 'put' is not defined\n",
      "Error processing segmented_00098.png: name 'put' is not defined\n",
      "Error processing segmented_00099.png: name 'put' is not defined\n"
     ]
    },
    {
     "name": "stderr",
     "output_type": "stream",
     "text": [
      "  1%|▏         | 104/8189 [00:05<04:42, 28.59it/s]"
     ]
    },
    {
     "name": "stdout",
     "output_type": "stream",
     "text": [
      "Error processing segmented_00100.png: name 'put' is not defined\n",
      "Error processing segmented_00101.png: name 'put' is not defined\n",
      "Error processing segmented_00102.png: name 'put' is not defined\n",
      "Error processing segmented_00103.png: name 'put' is not defined\n",
      "Error processing segmented_00104.png: name 'put' is not defined\n",
      "Error processing segmented_00105.png: name 'put' is not defined\n"
     ]
    },
    {
     "name": "stderr",
     "output_type": "stream",
     "text": [
      "  1%|▏         | 111/8189 [00:05<04:33, 29.59it/s]"
     ]
    },
    {
     "name": "stdout",
     "output_type": "stream",
     "text": [
      "Error processing segmented_00106.png: name 'put' is not defined\n",
      "Error processing segmented_00107.png: name 'put' is not defined\n",
      "Error processing segmented_00108.png: name 'put' is not defined\n",
      "Error processing segmented_00109.png: name 'put' is not defined\n",
      "Error processing segmented_00110.png: name 'put' is not defined\n",
      "Error processing segmented_00111.png: name 'put' is not defined\n"
     ]
    },
    {
     "name": "stderr",
     "output_type": "stream",
     "text": [
      "  1%|▏         | 114/8189 [00:05<04:42, 28.54it/s]"
     ]
    },
    {
     "name": "stdout",
     "output_type": "stream",
     "text": [
      "Error processing segmented_00112.png: name 'put' is not defined\n",
      "Error processing segmented_00113.png: name 'put' is not defined\n",
      "Error processing segmented_00114.png: name 'put' is not defined\n",
      "Error processing segmented_00115.png: name 'put' is not defined\n",
      "Error processing segmented_00116.png: name 'put' is not defined\n"
     ]
    },
    {
     "name": "stderr",
     "output_type": "stream",
     "text": [
      "  1%|▏         | 120/8189 [00:05<05:21, 25.10it/s]"
     ]
    },
    {
     "name": "stdout",
     "output_type": "stream",
     "text": [
      "Error processing segmented_00117.png: name 'put' is not defined\n",
      "Error processing segmented_00118.png: name 'put' is not defined\n",
      "Error processing segmented_00119.png: name 'put' is not defined\n",
      "Error processing segmented_00120.png: name 'put' is not defined\n",
      "Error processing segmented_00121.png: name 'put' is not defined\n",
      "Error processing segmented_00122.png: name 'put' is not defined\n"
     ]
    },
    {
     "name": "stderr",
     "output_type": "stream",
     "text": [
      "  2%|▏         | 126/8189 [00:06<04:58, 27.01it/s]"
     ]
    },
    {
     "name": "stdout",
     "output_type": "stream",
     "text": [
      "Error processing segmented_00123.png: name 'put' is not defined\n",
      "Error processing segmented_00124.png: name 'put' is not defined\n",
      "Error processing segmented_00125.png: name 'put' is not defined\n",
      "Error processing segmented_00126.png: name 'put' is not defined\n",
      "Error processing segmented_00127.png: name 'put' is not defined\n",
      "Error processing segmented_00128.png: name 'put' is not defined\n"
     ]
    },
    {
     "name": "stderr",
     "output_type": "stream",
     "text": [
      "  2%|▏         | 132/8189 [00:06<05:19, 25.25it/s]"
     ]
    },
    {
     "name": "stdout",
     "output_type": "stream",
     "text": [
      "Error processing segmented_00129.png: name 'put' is not defined\n",
      "Error processing segmented_00130.png: name 'put' is not defined\n",
      "Error processing segmented_00131.png: name 'put' is not defined\n",
      "Error processing segmented_00132.png: name 'put' is not defined\n",
      "Error processing segmented_00133.png: name 'put' is not defined\n",
      "Error processing segmented_00134.png: name 'put' is not defined\n"
     ]
    },
    {
     "name": "stderr",
     "output_type": "stream",
     "text": [
      "  2%|▏         | 138/8189 [00:06<05:44, 23.35it/s]"
     ]
    },
    {
     "name": "stdout",
     "output_type": "stream",
     "text": [
      "Error processing segmented_00135.png: name 'put' is not defined\n",
      "Error processing segmented_00136.png: name 'put' is not defined\n",
      "Error processing segmented_00137.png: name 'put' is not defined\n",
      "Error processing segmented_00138.png: name 'put' is not defined\n",
      "Error processing segmented_00139.png: name 'put' is not defined\n"
     ]
    },
    {
     "name": "stderr",
     "output_type": "stream",
     "text": [
      "  2%|▏         | 144/8189 [00:06<05:12, 25.78it/s]"
     ]
    },
    {
     "name": "stdout",
     "output_type": "stream",
     "text": [
      "Error processing segmented_00140.png: name 'put' is not defined\n",
      "Error processing segmented_00141.png: name 'put' is not defined\n",
      "Error processing segmented_00142.png: name 'put' is not defined\n",
      "Error processing segmented_00143.png: name 'put' is not defined\n",
      "Error processing segmented_00144.png: name 'put' is not defined\n",
      "Error processing segmented_00145.png: name 'put' is not defined\n"
     ]
    },
    {
     "name": "stderr",
     "output_type": "stream",
     "text": [
      "  2%|▏         | 150/8189 [00:07<05:00, 26.74it/s]"
     ]
    },
    {
     "name": "stdout",
     "output_type": "stream",
     "text": [
      "Error processing segmented_00146.png: name 'put' is not defined\n",
      "Error processing segmented_00147.png: name 'put' is not defined\n",
      "Error processing segmented_00148.png: name 'put' is not defined\n",
      "Error processing segmented_00149.png: name 'put' is not defined\n",
      "Error processing segmented_00150.png: name 'put' is not defined\n"
     ]
    },
    {
     "name": "stderr",
     "output_type": "stream",
     "text": [
      "  2%|▏         | 153/8189 [00:07<05:18, 25.25it/s]"
     ]
    },
    {
     "name": "stdout",
     "output_type": "stream",
     "text": [
      "Error processing segmented_00151.png: name 'put' is not defined\n",
      "Error processing segmented_00152.png: name 'put' is not defined\n",
      "Error processing segmented_00153.png: name 'put' is not defined\n",
      "Error processing segmented_00154.png: name 'put' is not defined\n"
     ]
    },
    {
     "name": "stderr",
     "output_type": "stream",
     "text": [
      "  2%|▏         | 156/8189 [00:07<06:50, 19.56it/s]"
     ]
    },
    {
     "name": "stdout",
     "output_type": "stream",
     "text": [
      "Error processing segmented_00155.png: name 'put' is not defined\n",
      "Error processing segmented_00156.png: name 'put' is not defined\n",
      "Error processing segmented_00157.png: name 'put' is not defined\n",
      "Error processing segmented_00158.png: name 'put' is not defined\n"
     ]
    },
    {
     "name": "stderr",
     "output_type": "stream",
     "text": [
      "  2%|▏         | 162/8189 [00:07<07:02, 18.99it/s]"
     ]
    },
    {
     "name": "stdout",
     "output_type": "stream",
     "text": [
      "Error processing segmented_00159.png: name 'put' is not defined\n",
      "Error processing segmented_00160.png: name 'put' is not defined\n",
      "Error processing segmented_00161.png: name 'put' is not defined\n",
      "Error processing segmented_00162.png: name 'put' is not defined\n"
     ]
    },
    {
     "name": "stderr",
     "output_type": "stream",
     "text": [
      "  2%|▏         | 169/8189 [00:07<05:36, 23.83it/s]"
     ]
    },
    {
     "name": "stdout",
     "output_type": "stream",
     "text": [
      "Error processing segmented_00163.png: name 'put' is not defined\n",
      "Error processing segmented_00164.png: name 'put' is not defined\n",
      "Error processing segmented_00165.png: name 'put' is not defined\n",
      "Error processing segmented_00166.png: name 'put' is not defined\n",
      "Error processing segmented_00167.png: name 'put' is not defined\n",
      "Error processing segmented_00168.png: name 'put' is not defined\n",
      "Error processing segmented_00169.png: name 'put' is not defined\n"
     ]
    },
    {
     "name": "stderr",
     "output_type": "stream",
     "text": [
      "  2%|▏         | 176/8189 [00:08<04:50, 27.57it/s]"
     ]
    },
    {
     "name": "stdout",
     "output_type": "stream",
     "text": [
      "Error processing segmented_00170.png: name 'put' is not defined\n",
      "Error processing segmented_00171.png: name 'put' is not defined\n",
      "Error processing segmented_00172.png: name 'put' is not defined\n",
      "Error processing segmented_00173.png: name 'put' is not defined\n",
      "Error processing segmented_00174.png: name 'put' is not defined\n",
      "Error processing segmented_00175.png: name 'put' is not defined\n",
      "Error processing segmented_00176.png: name 'put' is not defined\n",
      "Error processing segmented_00177.png: name 'put' is not defined\n"
     ]
    },
    {
     "name": "stderr",
     "output_type": "stream",
     "text": [
      "  2%|▏         | 184/8189 [00:08<04:20, 30.77it/s]"
     ]
    },
    {
     "name": "stdout",
     "output_type": "stream",
     "text": [
      "Error processing segmented_00178.png: name 'put' is not defined\n",
      "Error processing segmented_00179.png: name 'put' is not defined\n",
      "Error processing segmented_00180.png: name 'put' is not defined\n",
      "Error processing segmented_00181.png: name 'put' is not defined\n",
      "Error processing segmented_00182.png: name 'put' is not defined\n",
      "Error processing segmented_00183.png: name 'put' is not defined\n",
      "Error processing segmented_00184.png: name 'put' is not defined\n",
      "Error processing segmented_00185.png: name 'put' is not defined\n"
     ]
    },
    {
     "name": "stderr",
     "output_type": "stream",
     "text": [
      "  2%|▏         | 188/8189 [00:08<04:41, 28.43it/s]"
     ]
    },
    {
     "name": "stdout",
     "output_type": "stream",
     "text": [
      "Error processing segmented_00186.png: name 'put' is not defined\n",
      "Error processing segmented_00187.png: name 'put' is not defined\n",
      "Error processing segmented_00188.png: name 'put' is not defined\n",
      "Error processing segmented_00189.png: name 'put' is not defined\n"
     ]
    },
    {
     "name": "stderr",
     "output_type": "stream",
     "text": [
      "  2%|▏         | 191/8189 [00:08<05:50, 22.80it/s]"
     ]
    },
    {
     "name": "stdout",
     "output_type": "stream",
     "text": [
      "Error processing segmented_00190.png: name 'put' is not defined\n",
      "Error processing segmented_00191.png: name 'put' is not defined\n",
      "Error processing segmented_00192.png: name 'put' is not defined\n",
      "Error processing segmented_00193.png: name 'put' is not defined\n"
     ]
    },
    {
     "name": "stderr",
     "output_type": "stream",
     "text": [
      "  2%|▏         | 194/8189 [00:08<06:55, 19.24it/s]"
     ]
    },
    {
     "name": "stdout",
     "output_type": "stream",
     "text": [
      "Error processing segmented_00194.png: name 'put' is not defined\n",
      "Error processing segmented_00195.png: name 'put' is not defined\n",
      "Error processing segmented_00196.png: name 'put' is not defined\n"
     ]
    },
    {
     "name": "stderr",
     "output_type": "stream",
     "text": [
      "  2%|▏         | 199/8189 [00:09<07:36, 17.49it/s]"
     ]
    },
    {
     "name": "stdout",
     "output_type": "stream",
     "text": [
      "Error processing segmented_00197.png: name 'put' is not defined\n",
      "Error processing segmented_00198.png: name 'put' is not defined\n",
      "Error processing segmented_00199.png: name 'put' is not defined\n",
      "Error processing segmented_00200.png: name 'put' is not defined\n"
     ]
    },
    {
     "name": "stderr",
     "output_type": "stream",
     "text": [
      "  2%|▏         | 202/8189 [00:09<07:29, 17.76it/s]"
     ]
    },
    {
     "name": "stdout",
     "output_type": "stream",
     "text": [
      "Error processing segmented_00201.png: name 'put' is not defined\n",
      "Error processing segmented_00202.png: name 'put' is not defined\n",
      "Error processing segmented_00203.png: name 'put' is not defined\n"
     ]
    },
    {
     "name": "stderr",
     "output_type": "stream",
     "text": [
      "  3%|▎         | 206/8189 [00:09<08:53, 14.97it/s]"
     ]
    },
    {
     "name": "stdout",
     "output_type": "stream",
     "text": [
      "Error processing segmented_00204.png: name 'put' is not defined\n",
      "Error processing segmented_00205.png: name 'put' is not defined\n",
      "Error processing segmented_00206.png: name 'put' is not defined\n",
      "Error processing segmented_00207.png: name 'put' is not defined\n"
     ]
    },
    {
     "name": "stderr",
     "output_type": "stream",
     "text": [
      "  3%|▎         | 209/8189 [00:09<08:09, 16.31it/s]"
     ]
    },
    {
     "name": "stdout",
     "output_type": "stream",
     "text": [
      "Error processing segmented_00208.png: name 'put' is not defined\n",
      "Error processing segmented_00209.png: name 'put' is not defined\n",
      "Error processing segmented_00210.png: name 'put' is not defined\n"
     ]
    },
    {
     "name": "stderr",
     "output_type": "stream",
     "text": [
      "  3%|▎         | 213/8189 [00:10<09:38, 13.78it/s]"
     ]
    },
    {
     "name": "stdout",
     "output_type": "stream",
     "text": [
      "Error processing segmented_00211.png: name 'put' is not defined\n",
      "Error processing segmented_00212.png: name 'put' is not defined\n",
      "Error processing segmented_00213.png: name 'put' is not defined\n"
     ]
    },
    {
     "name": "stderr",
     "output_type": "stream",
     "text": [
      "  3%|▎         | 215/8189 [00:10<10:07, 13.13it/s]"
     ]
    },
    {
     "name": "stdout",
     "output_type": "stream",
     "text": [
      "Error processing segmented_00214.png: name 'put' is not defined\n",
      "Error processing segmented_00215.png: name 'put' is not defined\n",
      "Error processing segmented_00216.png: name 'put' is not defined\n"
     ]
    },
    {
     "name": "stderr",
     "output_type": "stream",
     "text": [
      "  3%|▎         | 219/8189 [00:10<09:43, 13.65it/s]"
     ]
    },
    {
     "name": "stdout",
     "output_type": "stream",
     "text": [
      "Error processing segmented_00217.png: name 'put' is not defined\n",
      "Error processing segmented_00218.png: name 'put' is not defined\n",
      "Error processing segmented_00219.png: name 'put' is not defined\n"
     ]
    },
    {
     "name": "stderr",
     "output_type": "stream",
     "text": [
      "  3%|▎         | 221/8189 [00:10<10:31, 12.62it/s]"
     ]
    },
    {
     "name": "stdout",
     "output_type": "stream",
     "text": [
      "Error processing segmented_00220.png: name 'put' is not defined\n",
      "Error processing segmented_00221.png: name 'put' is not defined\n",
      "Error processing segmented_00222.png: name 'put' is not defined\n"
     ]
    },
    {
     "name": "stderr",
     "output_type": "stream",
     "text": [
      "  3%|▎         | 227/8189 [00:11<07:05, 18.69it/s]"
     ]
    },
    {
     "name": "stdout",
     "output_type": "stream",
     "text": [
      "Error processing segmented_00223.png: name 'put' is not defined\n",
      "Error processing segmented_00224.png: name 'put' is not defined\n",
      "Error processing segmented_00225.png: name 'put' is not defined\n",
      "Error processing segmented_00226.png: name 'put' is not defined\n",
      "Error processing segmented_00227.png: name 'put' is not defined\n",
      "Error processing segmented_00228.png: name 'put' is not defined\n"
     ]
    },
    {
     "name": "stderr",
     "output_type": "stream",
     "text": [
      "  3%|▎         | 233/8189 [00:11<06:20, 20.88it/s]"
     ]
    },
    {
     "name": "stdout",
     "output_type": "stream",
     "text": [
      "Error processing segmented_00229.png: name 'put' is not defined\n",
      "Error processing segmented_00230.png: name 'put' is not defined\n",
      "Error processing segmented_00231.png: name 'put' is not defined\n",
      "Error processing segmented_00232.png: name 'put' is not defined\n",
      "Error processing segmented_00233.png: name 'put' is not defined\n"
     ]
    },
    {
     "name": "stderr",
     "output_type": "stream",
     "text": [
      "  3%|▎         | 236/8189 [00:11<06:53, 19.23it/s]"
     ]
    },
    {
     "name": "stdout",
     "output_type": "stream",
     "text": [
      "Error processing segmented_00234.png: name 'put' is not defined\n",
      "Error processing segmented_00235.png: name 'put' is not defined\n",
      "Error processing segmented_00236.png: name 'put' is not defined\n",
      "Error processing segmented_00237.png: name 'put' is not defined\n",
      "Error processing segmented_00238.png: name 'put' is not defined\n"
     ]
    },
    {
     "name": "stderr",
     "output_type": "stream",
     "text": [
      "  3%|▎         | 241/8189 [00:11<07:35, 17.43it/s]"
     ]
    },
    {
     "name": "stdout",
     "output_type": "stream",
     "text": [
      "Error processing segmented_00239.png: name 'put' is not defined\n",
      "Error processing segmented_00240.png: name 'put' is not defined\n",
      "Error processing segmented_00241.png: name 'put' is not defined\n",
      "Error processing segmented_00242.png: name 'put' is not defined\n"
     ]
    },
    {
     "name": "stderr",
     "output_type": "stream",
     "text": [
      "  3%|▎         | 244/8189 [00:12<06:34, 20.15it/s]"
     ]
    },
    {
     "name": "stdout",
     "output_type": "stream",
     "text": [
      "Error processing segmented_00243.png: name 'put' is not defined\n",
      "Error processing segmented_00244.png: name 'put' is not defined\n"
     ]
    },
    {
     "name": "stderr",
     "output_type": "stream",
     "text": [
      "\n"
     ]
    },
    {
     "ename": "KeyboardInterrupt",
     "evalue": "",
     "output_type": "error",
     "traceback": [
      "\u001b[1;31m---------------------------------------------------------------------------\u001b[0m",
      "\u001b[1;31mKeyboardInterrupt\u001b[0m                         Traceback (most recent call last)",
      "Cell \u001b[1;32mIn[2], line 48\u001b[0m\n\u001b[0;32m     46\u001b[0m output \u001b[38;5;241m=\u001b[39m img\u001b[38;5;241m.\u001b[39mcopy()\n\u001b[0;32m     47\u001b[0m markers \u001b[38;5;241m=\u001b[39m cv2\u001b[38;5;241m.\u001b[39mwatershed(output, markers)\n\u001b[1;32m---> 48\u001b[0m gallery \u001b[38;5;241m=\u001b[39m create_petal_gallery(img, markers)\n\u001b[0;32m     49\u001b[0m \u001b[38;5;28;01mif\u001b[39;00m gallery \u001b[38;5;129;01mis\u001b[39;00m \u001b[38;5;129;01mnot\u001b[39;00m \u001b[38;5;28;01mNone\u001b[39;00m:\n\u001b[0;32m     50\u001b[0m     gallery_out_path \u001b[38;5;241m=\u001b[39m os\u001b[38;5;241m.\u001b[39mpath\u001b[38;5;241m.\u001b[39mjoin(output_petal_dir, \u001b[38;5;124mf\u001b[39m\u001b[38;5;124m\"\u001b[39m\u001b[38;5;124mpetal_gallery_\u001b[39m\u001b[38;5;132;01m{\u001b[39;00mi\u001b[38;5;132;01m:\u001b[39;00m\u001b[38;5;124m05d\u001b[39m\u001b[38;5;132;01m}\u001b[39;00m\u001b[38;5;124m.png\u001b[39m\u001b[38;5;124m\"\u001b[39m)\n",
      "Cell \u001b[1;32mIn[1], line 13\u001b[0m, in \u001b[0;36mcreate_petal_gallery\u001b[1;34m(img, markers)\u001b[0m\n\u001b[0;32m     10\u001b[0m mask \u001b[38;5;241m=\u001b[39m (markers \u001b[38;5;241m==\u001b[39m label)\u001b[38;5;241m.\u001b[39mastype(np\u001b[38;5;241m.\u001b[39muint8) \u001b[38;5;241m*\u001b[39m \u001b[38;5;241m255\u001b[39m\n\u001b[0;32m     12\u001b[0m \u001b[38;5;66;03m# Extract the bounding box\u001b[39;00m\n\u001b[1;32m---> 13\u001b[0m x, y, w, h \u001b[38;5;241m=\u001b[39m cv2\u001b[38;5;241m.\u001b[39mboundingRect(mask)\n\u001b[0;32m     15\u001b[0m \u001b[38;5;66;03m# Mask and crop the petal\u001b[39;00m\n\u001b[0;32m     16\u001b[0m masked_img \u001b[38;5;241m=\u001b[39m cv2\u001b[38;5;241m.\u001b[39mbitwise_and(img, img, mask\u001b[38;5;241m=\u001b[39mmask)\n",
      "\u001b[1;31mKeyboardInterrupt\u001b[0m: "
     ]
    }
   ],
   "source": [
    "import cv2\n",
    "import numpy as np\n",
    "from PIL import Image\n",
    "import os\n",
    "import json\n",
    "from tqdm import tqdm\n",
    "\n",
    "# Directories\n",
    "segmented_dir = \"data/segmented\"\n",
    "output_img_dir = \"data/contours\"\n",
    "output_petal_dir = \"data/petals\"\n",
    "output_json_dir = \"data/petal_data\"\n",
    "os.makedirs(output_img_dir, exist_ok=True)\n",
    "os.makedirs(output_petal_dir, exist_ok=True)\n",
    "os.makedirs(output_json_dir, exist_ok=True)\n",
    "\n",
    "for i in tqdm(range(1, 8189 + 1)):  # Loop through all images\n",
    "    img_name = f\"segmented_{i:05d}.png\"\n",
    "    \n",
    "    try:\n",
    "        img_path = os.path.join(segmented_dir, img_name)\n",
    "        img = cv2.imread(img_path)\n",
    "        if img is None:\n",
    "            raise FileNotFoundError(f\"Image not found: {img_path}\")\n",
    "        \n",
    "        gray = cv2.cvtColor(img, cv2.COLOR_BGR2GRAY)\n",
    "        _, binary = cv2.threshold(gray, 10, 255, cv2.THRESH_BINARY)\n",
    "\n",
    "        # Preprocessing\n",
    "        kernel = np.ones((3, 3), np.uint8)\n",
    "        opening = cv2.morphologyEx(binary, cv2.MORPH_OPEN, kernel, iterations=2)\n",
    "        sure_bg = cv2.dilate(opening, kernel, iterations=3)\n",
    "\n",
    "        # Distance transform + sure foreground\n",
    "        dist_transform = cv2.distanceTransform(opening, cv2.DIST_L2, 5)\n",
    "        _, sure_fg = cv2.threshold(dist_transform, 0.5 * dist_transform.max(), 255, 0)\n",
    "        sure_fg = np.uint8(sure_fg)\n",
    "        unknown = cv2.subtract(sure_bg, sure_fg)\n",
    "\n",
    "        # Markers\n",
    "        _, markers = cv2.connectedComponents(sure_fg)\n",
    "        markers = markers + 1\n",
    "        markers[unknown == 255] = 0\n",
    "\n",
    "        # Watershed\n",
    "        output = img.copy()\n",
    "        markers = cv2.watershed(output, markers)\n",
    "        gallery = create_petal_gallery(img, markers)\n",
    "        if gallery is not None:\n",
    "            gallery_out_path = os.path.join(output_petal_dir, f\"petal_gallery_{i:05d}.png\")\n",
    "            cv2.imwrite(gallery_out_path, gallery)\n",
    "\n",
    "        output[markers == -1] = [0, 0, 255]  # Red boundary\n",
    "\n",
    "        # Count unique petal regions (label > 1)\n",
    "        unique_labels = np.unique(markers)\n",
    "        petal_ids = unique_labels[(unique_labels > 1)]\n",
    "        petal_count = len(petal_ids)\n",
    "\n",
    "        # Save image\n",
    "        output_img = Image.fromarray(cv2.cvtColor(output, cv2.COLOR_BGR2RGB))\n",
    "        output_img.save(os.path.join(output_img_dir, f\"contours_{i:05d}.png\"))\n",
    "\n",
    "        # Save to JSON\n",
    "        petal_data = [{\"petal_count\": petal_count}]\n",
    "        with open(os.path.join(output_json_dir, f\"petals_{i:05d}.json\"), \"w\") as f:\n",
    "            json.dump(petal_data, f, indent=4)\n",
    "\n",
    "    except Exception as e:\n",
    "        print(f\"Error processing {img_name}: {e}\")\n"
   ]
  }
 ],
 "metadata": {
  "kernelspec": {
   "display_name": "base",
   "language": "python",
   "name": "python3"
  },
  "language_info": {
   "codemirror_mode": {
    "name": "ipython",
    "version": 3
   },
   "file_extension": ".py",
   "mimetype": "text/x-python",
   "name": "python",
   "nbconvert_exporter": "python",
   "pygments_lexer": "ipython3",
   "version": "3.12.4"
  }
 },
 "nbformat": 4,
 "nbformat_minor": 5
}
