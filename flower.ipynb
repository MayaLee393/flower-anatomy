{
 "cells": [
  {
   "cell_type": "markdown",
   "id": "dedafa64",
   "metadata": {},
   "source": [
    "Create flower Segmentation"
   ]
  },
  {
   "cell_type": "code",
   "execution_count": 7,
   "id": "c14d85e2",
   "metadata": {},
   "outputs": [
    {
     "name": "stderr",
     "output_type": "stream",
     "text": [
      "100%|██████████| 8189/8189 [14:46<00:00,  9.24it/s]\n"
     ]
    }
   ],
   "source": [
    "import os\n",
    "from tqdm import tqdm\n",
    "import numpy as np\n",
    "from PIL import Image\n",
    "\n",
    "# Paths\n",
    "image_dir = \"data/jpg\"\n",
    "mask_dir = \"data/segmim\"\n",
    "output_dir = \"data/segmented\"\n",
    "os.makedirs(output_dir, exist_ok=True)\n",
    "\n",
    "# Process all images\n",
    "for i in tqdm(range(1, 8189 + 1)):  # 1-based indexing\n",
    "    img_name = f\"image_{i:05d}.jpg\"\n",
    "    mask_name = f\"segmim_{i:05d}.jpg\"\n",
    "\n",
    "    try:\n",
    "        img = Image.open(os.path.join(image_dir, img_name)).convert(\"RGB\")\n",
    "        mask = Image.open(os.path.join(mask_dir, mask_name)).convert(\"L\")\n",
    "\n",
    "        #convert to numpy\n",
    "        img_np = np.array(img)\n",
    "        mask_np = np.array(mask)\n",
    "\n",
    "        mask_bool = mask_np > 128 #convert grayscale to binary (True=white)\n",
    "        segmented = img_np.copy()\n",
    "        segmented[~mask_bool] = 0 #set non flower pixels to black\n",
    "\n",
    "        seg_img = Image.fromarray(segmented)\n",
    "        seg_img.save(os.path.join(output_dir, f\"segmented_{i:05d}.png\"))\n",
    "    except Exception as e:\n",
    "        print(f\"Error processing {img_name}: {e}\")\n"
   ]
  },
  {
   "cell_type": "markdown",
   "id": "527b8ed2",
   "metadata": {},
   "source": [
    "Analyze petals"
   ]
  },
  {
   "cell_type": "code",
   "execution_count": 16,
   "id": "6e6417d6",
   "metadata": {},
   "outputs": [
    {
     "name": "stderr",
     "output_type": "stream",
     "text": [
      "  0%|          | 0/8189 [00:00<?, ?it/s]"
     ]
    },
    {
     "name": "stderr",
     "output_type": "stream",
     "text": [
      "100%|██████████| 8189/8189 [09:55<00:00, 13.74it/s]\n"
     ]
    }
   ],
   "source": [
    "import cv2\n",
    "import numpy as np\n",
    "from PIL import Image\n",
    "import os\n",
    "import json\n",
    "from tqdm import tqdm\n",
    "\n",
    "# Directories\n",
    "segmented_dir = \"data/segmented\"\n",
    "output_img_dir = \"data/contours\"\n",
    "output_json_dir = \"data/petal_data\"\n",
    "os.makedirs(output_img_dir, exist_ok=True)\n",
    "os.makedirs(output_json_dir, exist_ok=True)\n",
    "\n",
    "for i in tqdm(range(1, 8189 + 1)):  # Loop through all images\n",
    "    img_name = f\"segmented_{i:05d}.png\"\n",
    "    \n",
    "    try:\n",
    "        # Load segmented image\n",
    "        img_path = os.path.join(segmented_dir, img_name)\n",
    "        img = cv2.imread(img_path)\n",
    "        if img is None:\n",
    "            raise FileNotFoundError(f\"Image not found: {img_path}\")\n",
    "        \n",
    "        gray = cv2.cvtColor(img, cv2.COLOR_BGR2GRAY)\n",
    "        _, binary = cv2.threshold(gray, 10, 255, cv2.THRESH_BINARY)\n",
    "        contours, _ = cv2.findContours(binary, cv2.RETR_EXTERNAL, cv2.CHAIN_APPROX_SIMPLE)\n",
    "\n",
    "        # Store petal metrics\n",
    "        petal_data = []\n",
    "        output = img.copy()\n",
    "        petal_index = 1\n",
    "\n",
    "        for cnt in contours:\n",
    "            area = cv2.contourArea(cnt)\n",
    "            if area > 500:  # Skip small/noisy blobs\n",
    "                perimeter = cv2.arcLength(cnt, True)\n",
    "                x, y, w, h = cv2.boundingRect(cnt)\n",
    "                aspect_ratio = float(w) / h\n",
    "                circularity = 4 * np.pi * area / (perimeter ** 2 + 1e-5)\n",
    "\n",
    "                petal_data.append({\n",
    "                    \"id\": petal_index,\n",
    "                    \"area\": round(area, 2),\n",
    "                    \"aspect_ratio\": round(aspect_ratio, 2),\n",
    "                    \"circularity\": round(circularity, 2)\n",
    "                })\n",
    "\n",
    "                # Draw and label\n",
    "                cv2.drawContours(output, [cnt], -1, (0, 255, 0), 2)\n",
    "                M = cv2.moments(cnt)\n",
    "                if M[\"m00\"] != 0:\n",
    "                    cx = int(M[\"m10\"] / M[\"m00\"])\n",
    "                    cy = int(M[\"m01\"] / M[\"m00\"])\n",
    "                    cv2.putText(output, str(petal_index), (cx, cy), cv2.FONT_HERSHEY_SIMPLEX, 0.5, (255, 0, 0), 1)\n",
    "\n",
    "                petal_index += 1\n",
    "\n",
    "        # Save contour image\n",
    "        output_img = Image.fromarray(cv2.cvtColor(output, cv2.COLOR_BGR2RGB))\n",
    "        output_img.save(os.path.join(output_img_dir, f\"contours_{i:05d}.png\"))\n",
    "\n",
    "        # Save JSON data\n",
    "        with open(os.path.join(output_json_dir, f\"petals_{i:05d}.json\"), \"w\") as f:\n",
    "            json.dump(petal_data, f, indent=4)\n",
    "\n",
    "    except Exception as e:\n",
    "        print(f\"Error processing {img_name}: {e}\")\n"
   ]
  }
 ],
 "metadata": {
  "kernelspec": {
   "display_name": "base",
   "language": "python",
   "name": "python3"
  },
  "language_info": {
   "codemirror_mode": {
    "name": "ipython",
    "version": 3
   },
   "file_extension": ".py",
   "mimetype": "text/x-python",
   "name": "python",
   "nbconvert_exporter": "python",
   "pygments_lexer": "ipython3",
   "version": "3.12.4"
  }
 },
 "nbformat": 4,
 "nbformat_minor": 5
}
